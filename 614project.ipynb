{
 "cells": [
  {
   "cell_type": "code",
   "execution_count": 61,
   "metadata": {},
   "outputs": [],
   "source": [
    "import pandas as pd\n",
    "from pandas import ExcelWriter\n",
    "from pandas import ExcelFile"
   ]
  },
  {
   "cell_type": "code",
   "execution_count": 62,
   "metadata": {},
   "outputs": [],
   "source": [
    "df=pd.read_csv('Project_dataset.csv',header=None)"
   ]
  },
  {
   "cell_type": "code",
   "execution_count": 63,
   "metadata": {},
   "outputs": [
    {
     "data": {
      "text/html": [
       "<div>\n",
       "<style scoped>\n",
       "    .dataframe tbody tr th:only-of-type {\n",
       "        vertical-align: middle;\n",
       "    }\n",
       "\n",
       "    .dataframe tbody tr th {\n",
       "        vertical-align: top;\n",
       "    }\n",
       "\n",
       "    .dataframe thead th {\n",
       "        text-align: right;\n",
       "    }\n",
       "</style>\n",
       "<table border=\"1\" class=\"dataframe\">\n",
       "  <thead>\n",
       "    <tr style=\"text-align: right;\">\n",
       "      <th></th>\n",
       "      <th>0</th>\n",
       "      <th>1</th>\n",
       "      <th>2</th>\n",
       "      <th>3</th>\n",
       "      <th>4</th>\n",
       "      <th>5</th>\n",
       "      <th>6</th>\n",
       "      <th>7</th>\n",
       "      <th>8</th>\n",
       "      <th>9</th>\n",
       "      <th>...</th>\n",
       "      <th>199</th>\n",
       "      <th>200</th>\n",
       "      <th>201</th>\n",
       "      <th>202</th>\n",
       "      <th>203</th>\n",
       "      <th>204</th>\n",
       "      <th>205</th>\n",
       "      <th>206</th>\n",
       "      <th>207</th>\n",
       "      <th>208</th>\n",
       "    </tr>\n",
       "  </thead>\n",
       "  <tbody>\n",
       "    <tr>\n",
       "      <td>0</td>\n",
       "      <td>0</td>\n",
       "      <td>-12</td>\n",
       "      <td>-17</td>\n",
       "      <td>-22</td>\n",
       "      <td>-19</td>\n",
       "      <td>-16</td>\n",
       "      <td>-16</td>\n",
       "      <td>-16</td>\n",
       "      <td>-17</td>\n",
       "      <td>-16</td>\n",
       "      <td>...</td>\n",
       "      <td>-22</td>\n",
       "      <td>-22</td>\n",
       "      <td>-17</td>\n",
       "      <td>-25</td>\n",
       "      <td>-32</td>\n",
       "      <td>-28</td>\n",
       "      <td>-30</td>\n",
       "      <td>-30</td>\n",
       "      <td>-25</td>\n",
       "      <td>-19</td>\n",
       "    </tr>\n",
       "    <tr>\n",
       "      <td>1</td>\n",
       "      <td>0</td>\n",
       "      <td>-9</td>\n",
       "      <td>-14</td>\n",
       "      <td>-12</td>\n",
       "      <td>-17</td>\n",
       "      <td>-20</td>\n",
       "      <td>-17</td>\n",
       "      <td>-22</td>\n",
       "      <td>-17</td>\n",
       "      <td>-16</td>\n",
       "      <td>...</td>\n",
       "      <td>-30</td>\n",
       "      <td>-22</td>\n",
       "      <td>-25</td>\n",
       "      <td>-25</td>\n",
       "      <td>-27</td>\n",
       "      <td>-32</td>\n",
       "      <td>-33</td>\n",
       "      <td>-28</td>\n",
       "      <td>-22</td>\n",
       "      <td>-16</td>\n",
       "    </tr>\n",
       "    <tr>\n",
       "      <td>2</td>\n",
       "      <td>1</td>\n",
       "      <td>-9</td>\n",
       "      <td>-12</td>\n",
       "      <td>-17</td>\n",
       "      <td>-16</td>\n",
       "      <td>-16</td>\n",
       "      <td>-14</td>\n",
       "      <td>-16</td>\n",
       "      <td>-16</td>\n",
       "      <td>-17</td>\n",
       "      <td>...</td>\n",
       "      <td>-25</td>\n",
       "      <td>-30</td>\n",
       "      <td>-28</td>\n",
       "      <td>-24</td>\n",
       "      <td>-17</td>\n",
       "      <td>-22</td>\n",
       "      <td>-30</td>\n",
       "      <td>-32</td>\n",
       "      <td>-33</td>\n",
       "      <td>-28</td>\n",
       "    </tr>\n",
       "    <tr>\n",
       "      <td>3</td>\n",
       "      <td>-1</td>\n",
       "      <td>-12</td>\n",
       "      <td>-17</td>\n",
       "      <td>-16</td>\n",
       "      <td>-14</td>\n",
       "      <td>-17</td>\n",
       "      <td>-16</td>\n",
       "      <td>-17</td>\n",
       "      <td>-19</td>\n",
       "      <td>-16</td>\n",
       "      <td>...</td>\n",
       "      <td>-20</td>\n",
       "      <td>-24</td>\n",
       "      <td>-20</td>\n",
       "      <td>-20</td>\n",
       "      <td>-24</td>\n",
       "      <td>-28</td>\n",
       "      <td>-30</td>\n",
       "      <td>-32</td>\n",
       "      <td>-33</td>\n",
       "      <td>-25</td>\n",
       "    </tr>\n",
       "    <tr>\n",
       "      <td>4</td>\n",
       "      <td>0</td>\n",
       "      <td>-8</td>\n",
       "      <td>-11</td>\n",
       "      <td>-11</td>\n",
       "      <td>-12</td>\n",
       "      <td>-16</td>\n",
       "      <td>-17</td>\n",
       "      <td>-17</td>\n",
       "      <td>-12</td>\n",
       "      <td>-12</td>\n",
       "      <td>...</td>\n",
       "      <td>-20</td>\n",
       "      <td>-24</td>\n",
       "      <td>-25</td>\n",
       "      <td>-22</td>\n",
       "      <td>-27</td>\n",
       "      <td>-27</td>\n",
       "      <td>-25</td>\n",
       "      <td>-22</td>\n",
       "      <td>-20</td>\n",
       "      <td>-14</td>\n",
       "    </tr>\n",
       "  </tbody>\n",
       "</table>\n",
       "<p>5 rows × 209 columns</p>\n",
       "</div>"
      ],
      "text/plain": [
       "   0    1    2    3    4    5    6    7    8    9    ...  199  200  201  202  \\\n",
       "0    0  -12  -17  -22  -19  -16  -16  -16  -17  -16  ...  -22  -22  -17  -25   \n",
       "1    0   -9  -14  -12  -17  -20  -17  -22  -17  -16  ...  -30  -22  -25  -25   \n",
       "2    1   -9  -12  -17  -16  -16  -14  -16  -16  -17  ...  -25  -30  -28  -24   \n",
       "3   -1  -12  -17  -16  -14  -17  -16  -17  -19  -16  ...  -20  -24  -20  -20   \n",
       "4    0   -8  -11  -11  -12  -16  -17  -17  -12  -12  ...  -20  -24  -25  -22   \n",
       "\n",
       "   203  204  205  206  207  208  \n",
       "0  -32  -28  -30  -30  -25  -19  \n",
       "1  -27  -32  -33  -28  -22  -16  \n",
       "2  -17  -22  -30  -32  -33  -28  \n",
       "3  -24  -28  -30  -32  -33  -25  \n",
       "4  -27  -27  -25  -22  -20  -14  \n",
       "\n",
       "[5 rows x 209 columns]"
      ]
     },
     "execution_count": 63,
     "metadata": {},
     "output_type": "execute_result"
    }
   ],
   "source": [
    "df.head()"
   ]
  },
  {
   "cell_type": "code",
   "execution_count": 64,
   "metadata": {},
   "outputs": [
    {
     "name": "stdout",
     "output_type": "stream",
     "text": [
      "<class 'pandas.core.frame.DataFrame'>\n",
      "RangeIndex: 552 entries, 0 to 551\n",
      "Columns: 209 entries, 0 to 208\n",
      "dtypes: int64(209)\n",
      "memory usage: 901.4 KB\n"
     ]
    }
   ],
   "source": [
    "df.info()"
   ]
  },
  {
   "cell_type": "code",
   "execution_count": 65,
   "metadata": {},
   "outputs": [
    {
     "data": {
      "text/html": [
       "<div>\n",
       "<style scoped>\n",
       "    .dataframe tbody tr th:only-of-type {\n",
       "        vertical-align: middle;\n",
       "    }\n",
       "\n",
       "    .dataframe tbody tr th {\n",
       "        vertical-align: top;\n",
       "    }\n",
       "\n",
       "    .dataframe thead th {\n",
       "        text-align: right;\n",
       "    }\n",
       "</style>\n",
       "<table border=\"1\" class=\"dataframe\">\n",
       "  <thead>\n",
       "    <tr style=\"text-align: right;\">\n",
       "      <th></th>\n",
       "      <th>0</th>\n",
       "      <th>1</th>\n",
       "      <th>2</th>\n",
       "      <th>3</th>\n",
       "      <th>4</th>\n",
       "      <th>5</th>\n",
       "      <th>6</th>\n",
       "      <th>7</th>\n",
       "      <th>8</th>\n",
       "      <th>9</th>\n",
       "      <th>...</th>\n",
       "      <th>199</th>\n",
       "      <th>200</th>\n",
       "      <th>201</th>\n",
       "      <th>202</th>\n",
       "      <th>203</th>\n",
       "      <th>204</th>\n",
       "      <th>205</th>\n",
       "      <th>206</th>\n",
       "      <th>207</th>\n",
       "      <th>208</th>\n",
       "    </tr>\n",
       "  </thead>\n",
       "  <tbody>\n",
       "    <tr>\n",
       "      <td>count</td>\n",
       "      <td>552.000000</td>\n",
       "      <td>552.000000</td>\n",
       "      <td>552.000000</td>\n",
       "      <td>552.000000</td>\n",
       "      <td>552.000000</td>\n",
       "      <td>552.000000</td>\n",
       "      <td>552.000000</td>\n",
       "      <td>552.000000</td>\n",
       "      <td>552.000000</td>\n",
       "      <td>552.000000</td>\n",
       "      <td>...</td>\n",
       "      <td>552.000000</td>\n",
       "      <td>552.000000</td>\n",
       "      <td>552.000000</td>\n",
       "      <td>552.000000</td>\n",
       "      <td>552.000000</td>\n",
       "      <td>552.000000</td>\n",
       "      <td>552.000000</td>\n",
       "      <td>552.000000</td>\n",
       "      <td>552.000000</td>\n",
       "      <td>552.000000</td>\n",
       "    </tr>\n",
       "    <tr>\n",
       "      <td>mean</td>\n",
       "      <td>0.425725</td>\n",
       "      <td>-9.954710</td>\n",
       "      <td>-13.534420</td>\n",
       "      <td>-14.402174</td>\n",
       "      <td>-14.623188</td>\n",
       "      <td>-14.648551</td>\n",
       "      <td>-14.737319</td>\n",
       "      <td>-14.766304</td>\n",
       "      <td>-14.840580</td>\n",
       "      <td>-14.710145</td>\n",
       "      <td>...</td>\n",
       "      <td>-24.443841</td>\n",
       "      <td>-24.907609</td>\n",
       "      <td>-23.016304</td>\n",
       "      <td>-22.112319</td>\n",
       "      <td>-23.014493</td>\n",
       "      <td>-25.025362</td>\n",
       "      <td>-28.271739</td>\n",
       "      <td>-29.708333</td>\n",
       "      <td>-28.163043</td>\n",
       "      <td>-25.077899</td>\n",
       "    </tr>\n",
       "    <tr>\n",
       "      <td>std</td>\n",
       "      <td>1.290025</td>\n",
       "      <td>2.061605</td>\n",
       "      <td>2.480174</td>\n",
       "      <td>2.637410</td>\n",
       "      <td>2.648022</td>\n",
       "      <td>2.560278</td>\n",
       "      <td>2.613281</td>\n",
       "      <td>2.631946</td>\n",
       "      <td>2.570943</td>\n",
       "      <td>2.505031</td>\n",
       "      <td>...</td>\n",
       "      <td>4.486370</td>\n",
       "      <td>4.507765</td>\n",
       "      <td>4.631787</td>\n",
       "      <td>4.175600</td>\n",
       "      <td>4.119337</td>\n",
       "      <td>4.015769</td>\n",
       "      <td>4.065087</td>\n",
       "      <td>4.464834</td>\n",
       "      <td>5.501250</td>\n",
       "      <td>5.838052</td>\n",
       "    </tr>\n",
       "    <tr>\n",
       "      <td>min</td>\n",
       "      <td>-6.000000</td>\n",
       "      <td>-17.000000</td>\n",
       "      <td>-20.000000</td>\n",
       "      <td>-25.000000</td>\n",
       "      <td>-22.000000</td>\n",
       "      <td>-25.000000</td>\n",
       "      <td>-28.000000</td>\n",
       "      <td>-22.000000</td>\n",
       "      <td>-20.000000</td>\n",
       "      <td>-24.000000</td>\n",
       "      <td>...</td>\n",
       "      <td>-38.000000</td>\n",
       "      <td>-36.000000</td>\n",
       "      <td>-35.000000</td>\n",
       "      <td>-36.000000</td>\n",
       "      <td>-36.000000</td>\n",
       "      <td>-36.000000</td>\n",
       "      <td>-40.000000</td>\n",
       "      <td>-43.000000</td>\n",
       "      <td>-41.000000</td>\n",
       "      <td>-44.000000</td>\n",
       "    </tr>\n",
       "    <tr>\n",
       "      <td>25%</td>\n",
       "      <td>0.000000</td>\n",
       "      <td>-11.000000</td>\n",
       "      <td>-16.000000</td>\n",
       "      <td>-16.000000</td>\n",
       "      <td>-17.000000</td>\n",
       "      <td>-16.000000</td>\n",
       "      <td>-16.000000</td>\n",
       "      <td>-16.250000</td>\n",
       "      <td>-17.000000</td>\n",
       "      <td>-16.000000</td>\n",
       "      <td>...</td>\n",
       "      <td>-27.000000</td>\n",
       "      <td>-28.000000</td>\n",
       "      <td>-25.000000</td>\n",
       "      <td>-25.000000</td>\n",
       "      <td>-25.000000</td>\n",
       "      <td>-28.000000</td>\n",
       "      <td>-32.000000</td>\n",
       "      <td>-33.000000</td>\n",
       "      <td>-32.000000</td>\n",
       "      <td>-28.000000</td>\n",
       "    </tr>\n",
       "    <tr>\n",
       "      <td>50%</td>\n",
       "      <td>0.000000</td>\n",
       "      <td>-9.000000</td>\n",
       "      <td>-14.000000</td>\n",
       "      <td>-14.000000</td>\n",
       "      <td>-14.000000</td>\n",
       "      <td>-14.000000</td>\n",
       "      <td>-14.000000</td>\n",
       "      <td>-16.000000</td>\n",
       "      <td>-16.000000</td>\n",
       "      <td>-14.000000</td>\n",
       "      <td>...</td>\n",
       "      <td>-25.000000</td>\n",
       "      <td>-25.000000</td>\n",
       "      <td>-24.000000</td>\n",
       "      <td>-22.000000</td>\n",
       "      <td>-24.000000</td>\n",
       "      <td>-25.000000</td>\n",
       "      <td>-28.000000</td>\n",
       "      <td>-30.000000</td>\n",
       "      <td>-28.000000</td>\n",
       "      <td>-25.000000</td>\n",
       "    </tr>\n",
       "    <tr>\n",
       "      <td>75%</td>\n",
       "      <td>1.000000</td>\n",
       "      <td>-9.000000</td>\n",
       "      <td>-12.000000</td>\n",
       "      <td>-12.000000</td>\n",
       "      <td>-12.000000</td>\n",
       "      <td>-12.000000</td>\n",
       "      <td>-13.500000</td>\n",
       "      <td>-12.000000</td>\n",
       "      <td>-12.000000</td>\n",
       "      <td>-12.000000</td>\n",
       "      <td>...</td>\n",
       "      <td>-22.000000</td>\n",
       "      <td>-22.000000</td>\n",
       "      <td>-20.000000</td>\n",
       "      <td>-19.000000</td>\n",
       "      <td>-20.000000</td>\n",
       "      <td>-22.000000</td>\n",
       "      <td>-25.000000</td>\n",
       "      <td>-27.000000</td>\n",
       "      <td>-25.000000</td>\n",
       "      <td>-22.000000</td>\n",
       "    </tr>\n",
       "    <tr>\n",
       "      <td>max</td>\n",
       "      <td>4.000000</td>\n",
       "      <td>-3.000000</td>\n",
       "      <td>-4.000000</td>\n",
       "      <td>-6.000000</td>\n",
       "      <td>-8.000000</td>\n",
       "      <td>-8.000000</td>\n",
       "      <td>-6.000000</td>\n",
       "      <td>-8.000000</td>\n",
       "      <td>-8.000000</td>\n",
       "      <td>-8.000000</td>\n",
       "      <td>...</td>\n",
       "      <td>-11.000000</td>\n",
       "      <td>-11.000000</td>\n",
       "      <td>-4.000000</td>\n",
       "      <td>-6.000000</td>\n",
       "      <td>-12.000000</td>\n",
       "      <td>-14.000000</td>\n",
       "      <td>-17.000000</td>\n",
       "      <td>-11.000000</td>\n",
       "      <td>-8.000000</td>\n",
       "      <td>-4.000000</td>\n",
       "    </tr>\n",
       "  </tbody>\n",
       "</table>\n",
       "<p>8 rows × 209 columns</p>\n",
       "</div>"
      ],
      "text/plain": [
       "              0           1           2           3           4           5    \\\n",
       "count  552.000000  552.000000  552.000000  552.000000  552.000000  552.000000   \n",
       "mean     0.425725   -9.954710  -13.534420  -14.402174  -14.623188  -14.648551   \n",
       "std      1.290025    2.061605    2.480174    2.637410    2.648022    2.560278   \n",
       "min     -6.000000  -17.000000  -20.000000  -25.000000  -22.000000  -25.000000   \n",
       "25%      0.000000  -11.000000  -16.000000  -16.000000  -17.000000  -16.000000   \n",
       "50%      0.000000   -9.000000  -14.000000  -14.000000  -14.000000  -14.000000   \n",
       "75%      1.000000   -9.000000  -12.000000  -12.000000  -12.000000  -12.000000   \n",
       "max      4.000000   -3.000000   -4.000000   -6.000000   -8.000000   -8.000000   \n",
       "\n",
       "              6           7           8           9    ...         199  \\\n",
       "count  552.000000  552.000000  552.000000  552.000000  ...  552.000000   \n",
       "mean   -14.737319  -14.766304  -14.840580  -14.710145  ...  -24.443841   \n",
       "std      2.613281    2.631946    2.570943    2.505031  ...    4.486370   \n",
       "min    -28.000000  -22.000000  -20.000000  -24.000000  ...  -38.000000   \n",
       "25%    -16.000000  -16.250000  -17.000000  -16.000000  ...  -27.000000   \n",
       "50%    -14.000000  -16.000000  -16.000000  -14.000000  ...  -25.000000   \n",
       "75%    -13.500000  -12.000000  -12.000000  -12.000000  ...  -22.000000   \n",
       "max     -6.000000   -8.000000   -8.000000   -8.000000  ...  -11.000000   \n",
       "\n",
       "              200         201         202         203         204         205  \\\n",
       "count  552.000000  552.000000  552.000000  552.000000  552.000000  552.000000   \n",
       "mean   -24.907609  -23.016304  -22.112319  -23.014493  -25.025362  -28.271739   \n",
       "std      4.507765    4.631787    4.175600    4.119337    4.015769    4.065087   \n",
       "min    -36.000000  -35.000000  -36.000000  -36.000000  -36.000000  -40.000000   \n",
       "25%    -28.000000  -25.000000  -25.000000  -25.000000  -28.000000  -32.000000   \n",
       "50%    -25.000000  -24.000000  -22.000000  -24.000000  -25.000000  -28.000000   \n",
       "75%    -22.000000  -20.000000  -19.000000  -20.000000  -22.000000  -25.000000   \n",
       "max    -11.000000   -4.000000   -6.000000  -12.000000  -14.000000  -17.000000   \n",
       "\n",
       "              206         207         208  \n",
       "count  552.000000  552.000000  552.000000  \n",
       "mean   -29.708333  -28.163043  -25.077899  \n",
       "std      4.464834    5.501250    5.838052  \n",
       "min    -43.000000  -41.000000  -44.000000  \n",
       "25%    -33.000000  -32.000000  -28.000000  \n",
       "50%    -30.000000  -28.000000  -25.000000  \n",
       "75%    -27.000000  -25.000000  -22.000000  \n",
       "max    -11.000000   -8.000000   -4.000000  \n",
       "\n",
       "[8 rows x 209 columns]"
      ]
     },
     "execution_count": 65,
     "metadata": {},
     "output_type": "execute_result"
    }
   ],
   "source": [
    "df.describe()"
   ]
  },
  {
   "cell_type": "code",
   "execution_count": 66,
   "metadata": {},
   "outputs": [],
   "source": [
    "#sperate training and test dataset\n",
    "X=df.values\n",
    "#X_train, X_test=train_test_split(X,test_size=0.3,random_state=0)"
   ]
  },
  {
   "cell_type": "code",
   "execution_count": 67,
   "metadata": {},
   "outputs": [],
   "source": [
    "from sklearn.preprocessing import StandardScaler,scale\n",
    "import numpy as np"
   ]
  },
  {
   "cell_type": "code",
   "execution_count": 68,
   "metadata": {},
   "outputs": [],
   "source": [
    "#Standarize to (0,1)\n",
    "scaler = StandardScaler()\n",
    "X=scaler.fit_transform(X)"
   ]
  },
  {
   "cell_type": "code",
   "execution_count": 69,
   "metadata": {},
   "outputs": [
    {
     "data": {
      "text/plain": [
       "(209, 209)"
      ]
     },
     "execution_count": 69,
     "metadata": {},
     "output_type": "execute_result"
    }
   ],
   "source": [
    "#calculating covariance matrix\n",
    "cov_mat=np.cov(X.T)\n",
    "cov_mat.shape"
   ]
  },
  {
   "cell_type": "code",
   "execution_count": 70,
   "metadata": {},
   "outputs": [],
   "source": [
    "#calculating eigen_vals and eigen_vecs\n",
    "eigen_vals, eigen_vecs=np.linalg.eig(cov_mat)\n"
   ]
  },
  {
   "cell_type": "code",
   "execution_count": 71,
   "metadata": {},
   "outputs": [],
   "source": [
    "#variance explained ratios\n",
    "tot=sum(eigen_vals) # sumation of eigen_value\n",
    "var_exp=[(i/tot) for i in sorted(eigen_vals,reverse=True)] # ratio of each eigen_value\n",
    "cum_var_exp=np.cumsum(var_exp)"
   ]
  },
  {
   "cell_type": "code",
   "execution_count": 87,
   "metadata": {
    "scrolled": true
   },
   "outputs": [
    {
     "data": {
      "image/png": "[encoded data removed]",
      "text/plain": [
       "<Figure size 432x288 with 1 Axes>"
      ]
     },
     "metadata": {
      "needs_background": "light"
     },
     "output_type": "display_data"
    }
   ],
   "source": [
    "#Pareto plot\n",
    "import matplotlib.pyplot as plt\n",
    "fig,ax = plt.subplots()\n",
    "# plt.bar(range(len(eigen_vals)),var_exp,alpha=0.5, label='individual explained variance')\n",
    "# plt.step(range(len(eigen_vals)), cum_var_exp, where='post',label='cumulative explained variance') \n",
    "\n",
    "plt.bar(range(100),var_exp[:100],alpha=0.5, label='individual explained variance')\n",
    "plt.step(range(100), cum_var_exp[:100], where='post',label='cumulative explained variance') \n",
    "plt.axhline(y=0.8,color='r')\n",
    "plt.ylabel('Explained variance ratio') \n",
    "plt.xlabel('Principal components') \n",
    "plt.legend(loc='best') \n",
    "plt.show()\n",
    "fig.savefig('images/pareto.png')"
   ]
  },
  {
   "cell_type": "code",
   "execution_count": 73,
   "metadata": {},
   "outputs": [],
   "source": [
    "# fig,ax = plt.subplots()\n",
    "# # plt.bar(range(len(eigen_vals)),var_exp,alpha=0.5, label='individual explained variance')\n",
    "# # plt.step(range(len(eigen_vals)), cum_var_exp, where='post',label='cumulative explained variance') \n",
    "# ax.bar(range(100),var_exp[:100],alpha=0.5, label='individual explained variance')\n",
    "# ax2 =ax.twinx()\n",
    "# ax2.step(range(100), cum_var_exp[:100], where='post',label='cumulative explained variance') \n",
    "# ax.axhline(y=0.8,color='r')\n",
    "# ax.set_ylabel(f'Explained variance ratio')\n",
    "# ax2.set_ylabel(f'cumulative explained variance')\n",
    "# ax.set_xlabel('Principal components') \n",
    "# fig.legend(loc='upper right') \n",
    "# plt.show()"
   ]
  },
  {
   "cell_type": "code",
   "execution_count": 86,
   "metadata": {},
   "outputs": [
    {
     "data": {
      "image/png": "[encoded data removed]",
      "text/plain": [
       "<Figure size 432x288 with 1 Axes>"
      ]
     },
     "metadata": {
      "needs_background": "light"
     },
     "output_type": "display_data"
    }
   ],
   "source": [
    "#Scree plot\n",
    "fig,ax = plt.subplots()\n",
    "plt.plot(range(len(eigen_vals)),sorted(eigen_vals,reverse=True))\n",
    "plt.xlim(0,20)\n",
    "plt.ylim(0,60)\n",
    "plt.xticks(np.linspace(0,20,21))\n",
    "plt.ylabel('Associated eigen values') \n",
    "plt.xlabel('Principal components')\n",
    "plt.show()\n",
    "fig.savefig('images/steer.png')"
   ]
  },
  {
   "cell_type": "code",
   "execution_count": null,
   "metadata": {},
   "outputs": [],
   "source": []
  },
  {
   "cell_type": "code",
   "execution_count": 75,
   "metadata": {},
   "outputs": [
    {
     "data": {
      "text/plain": [
       "(552, 8)"
      ]
     },
     "execution_count": 75,
     "metadata": {},
     "output_type": "execute_result"
    }
   ],
   "source": [
    "# Determine number of PC\n",
    "\"\"\"as the Scree plot says,  PCs can explain most of the varaince\"\"\"\n",
    "from sklearn.decomposition import PCA\n",
    "pca_num=8\n",
    "pca=PCA(n_components=pca_num) # chose 20 PCs for following analysis\n",
    "X_pca=pca.fit_transform(X)\n",
    "X_pca.shape"
   ]
  },
  {
   "cell_type": "code",
   "execution_count": 76,
   "metadata": {},
   "outputs": [
    {
     "data": {
      "text/plain": [
       "(8, 8)"
      ]
     },
     "execution_count": 76,
     "metadata": {},
     "output_type": "execute_result"
    }
   ],
   "source": [
    "# covariance matrix of trimmed dataset\n",
    "cov_mat=np.cov(X_pca.T)\n",
    "cov_mat_inv=np.linalg.inv(cov_mat)\n",
    "cov_mat.shape"
   ]
  },
  {
   "cell_type": "code",
   "execution_count": 77,
   "metadata": {},
   "outputs": [],
   "source": [
    "# X bar matrix\n",
    "X_bar=[X_pca[:,i].mean() for i in range(0,pca_num)]"
   ]
  },
  {
   "cell_type": "code",
   "execution_count": 78,
   "metadata": {},
   "outputs": [],
   "source": [
    "# calculating X_j-X_bar\n",
    "X_sub=[X_pca[i,:]-X_bar for i in range(len(X_pca))]\n",
    "X_sub=np.asmatrix(X_sub)"
   ]
  },
  {
   "cell_type": "code",
   "execution_count": 79,
   "metadata": {
    "scrolled": true
   },
   "outputs": [],
   "source": [
    "# calculating T^2 statistics\n",
    "T_square=[np.float(np.matmul(np.matmul(X_sub[i,:],cov_mat_inv),X_sub[i,:].T)) for i in range(len(X_sub))]"
   ]
  },
  {
   "cell_type": "code",
   "execution_count": 80,
   "metadata": {},
   "outputs": [
    {
     "name": "stdout",
     "output_type": "stream",
     "text": [
      "15.507313055865454\n"
     ]
    }
   ],
   "source": [
    "#use alaph = 0.05 then the probability of the chi sqaure dist. will be\n",
    "from scipy.stats import chi2\n",
    "alpha=0.05\n",
    "UCL=chi2.isf(alpha,pca_num)\n",
    "print(UCL)"
   ]
  },
  {
   "cell_type": "code",
   "execution_count": 85,
   "metadata": {
    "scrolled": true
   },
   "outputs": [
    {
     "data": {
      "image/png": "[encoded data removed]",
      "text/plain": [
       "<Figure size 432x288 with 1 Axes>"
      ]
     },
     "metadata": {
      "needs_background": "light"
     },
     "output_type": "display_data"
    }
   ],
   "source": [
    "# ploting\n",
    "fig,ax = plt.subplots()\n",
    "plt.plot(range(len(X_pca)),T_square, label='T2')\n",
    "plt.axhline(y=UCL,color='r',label='UCL:'+str(UCL)[:4])\n",
    "plt.xlabel('observations') \n",
    "plt.ylabel('T2 statistics')\n",
    "plt.legend(loc='best') \n",
    "plt.show()\n",
    "fig.savefig('images/t2.png')"
   ]
  },
  {
   "cell_type": "code",
   "execution_count": 89,
   "metadata": {},
   "outputs": [
    {
     "data": {
      "text/plain": [
       "552"
      ]
     },
     "execution_count": 89,
     "metadata": {},
     "output_type": "execute_result"
    }
   ],
   "source": [
    "# remove outlier\n",
    "T_square_tr=[i for i in T_square if i<=UCL]\n",
    "len(T_square_tr)\n",
    "len(T_square)"
   ]
  },
  {
   "cell_type": "code",
   "execution_count": 90,
   "metadata": {},
   "outputs": [
    {
     "data": {
      "image/png": "[encoded data removed]",
      "text/plain": [
       "<Figure size 432x288 with 1 Axes>"
      ]
     },
     "metadata": {
      "needs_background": "light"
     },
     "output_type": "display_data"
    }
   ],
   "source": [
    "# ploting\n",
    "fig, ax = plt.subplots()\n",
    "plt.title('After removing outlier')\n",
    "plt.plot(range(len(T_square_tr)),T_square_tr, label='T2')\n",
    "plt.axhline(y=UCL,color='r',label='UCL:31.4')\n",
    "plt.ylim(0,60)\n",
    "plt.xlabel('observations') \n",
    "plt.ylabel('T2 statistics')\n",
    "plt.legend(loc='best') \n",
    "plt.show()\n",
    "fig.savefig(\"images/t2-after.png\")"
   ]
  },
  {
   "cell_type": "code",
   "execution_count": 91,
   "metadata": {},
   "outputs": [
    {
     "data": {
      "text/plain": [
       "517"
      ]
     },
     "execution_count": 91,
     "metadata": {},
     "output_type": "execute_result"
    }
   ],
   "source": [
    "# remove outlier of X_pca\n",
    "X_pca_tr=[X_pca[i,:] for i in range(len(X_pca)) if T_square[i]<=UCL ] \n",
    "X_pca_tr=np.asarray(X_pca_tr)\n",
    "X_pca_tr.shape\n",
    "len(X_pca_tr)"
   ]
  },
  {
   "cell_type": "code",
   "execution_count": 92,
   "metadata": {},
   "outputs": [],
   "source": [
    "# from previous phase1 analysis we can use sample mean and variance to represent population mean and varianc\n",
    "# X bar matrix\n",
    "X_bar_tr=[X_pca_tr[:][i].mean() for i in range(0,pca_num)]"
   ]
  },
  {
   "cell_type": "code",
   "execution_count": 93,
   "metadata": {},
   "outputs": [],
   "source": [
    "# covariance matrix\n",
    "cov_=np.cov(X_pca_tr.T)\n",
    "cov_inv=np.linalg.inv(cov_)"
   ]
  },
  {
   "cell_type": "code",
   "execution_count": 94,
   "metadata": {},
   "outputs": [],
   "source": [
    "# calculating m-CUSUM indexes\n",
    "CUSUM_mc=np.zeros(len(X_pca_tr),dtype=float)\n",
    "CUSUM_n=np.ones(len(X_pca_tr))\n",
    "CUSUM_k=3.0 # detecting statistical distance of mean shift "
   ]
  },
  {
   "cell_type": "code",
   "execution_count": 97,
   "metadata": {},
   "outputs": [],
   "source": [
    "# initial cond.\n",
    "import math\n",
    "CUSUM_c=X_pca_tr[0]-X_bar_tr\n",
    "CUSUM_mc[0]=max(0.0,math.sqrt(np.matmul(np.matmul(CUSUM_c,cov_inv),CUSUM_c.T))-CUSUM_k*CUSUM_n[0])\n"
   ]
  },
  {
   "cell_type": "code",
   "execution_count": 98,
   "metadata": {},
   "outputs": [],
   "source": [
    "for i in range(1,len(X_pca_tr)):\n",
    "    if (CUSUM_mc[i-1]!=0.0):\n",
    "        CUSUM_n[i]=CUSUM_n[i-1]+1\n",
    "    CUSUM_c=sum(X_pca_tr[(i-int(CUSUM_n[i])+1):i+1]-X_bar_tr) \n",
    "    CUSUM_mc[i]=max(0.0,math.sqrt(np.matmul(np.matmul(CUSUM_c,cov_inv),CUSUM_c.T))-CUSUM_k*CUSUM_n[i])"
   ]
  },
  {
   "cell_type": "code",
   "execution_count": 107,
   "metadata": {},
   "outputs": [
    {
     "data": {
      "image/png": "[encoded data removed]",
      "text/plain": [
       "<Figure size 432x288 with 1 Axes>"
      ]
     },
     "metadata": {
      "needs_background": "light"
     },
     "output_type": "display_data"
    }
   ],
   "source": [
    "#plotting\n",
    "UCL =6\n",
    "fig,ax = plt.subplots()\n",
    "plt.title(\"m-CUSUM\")\n",
    "plt.plot(range(len(CUSUM_mc)),CUSUM_mc)\n",
    "plt.axhline(y=UCL,color='r',label='UCL:{}'.format(UCL))\n",
    "plt.xlabel('observations') \n",
    "plt.ylabel('T2 statistics')\n",
    "plt.show()\n",
    "fig.savefig(\"images/mcusum.png\")"
   ]
  },
  {
   "cell_type": "code",
   "execution_count": 100,
   "metadata": {},
   "outputs": [],
   "source": [
    "# mewma\n",
    "mewma_lamda=0.3\n",
    "mewma_z=np.zeros((len(X_pca_tr),len(X_pca_tr[0,:])))\n",
    "mewma_z[0,:]=X_bar_tr"
   ]
  },
  {
   "cell_type": "code",
   "execution_count": 101,
   "metadata": {},
   "outputs": [],
   "source": [
    "# Giving value to z\n",
    "for i in range(1,len(X_pca_tr)):\n",
    "    mewma_z[i,:]=mewma_lamda*X_pca_tr[i,:]+(1-mewma_lamda)*mewma_z[(i-1),:]"
   ]
  },
  {
   "cell_type": "code",
   "execution_count": 102,
   "metadata": {},
   "outputs": [],
   "source": [
    "# cov of z\n",
    "cov_z=np.cov(mewma_z.T)\n",
    "cov_z_inv=np.linalg.inv(cov_z)\n",
    "# z sub\n",
    "mewma_z_sub=mewma_z-X_bar_tr"
   ]
  },
  {
   "cell_type": "code",
   "execution_count": 103,
   "metadata": {},
   "outputs": [],
   "source": [
    "# T2 of mEWMA\n",
    "mewma_t=[np.float(np.matmul(np.matmul(mewma_z_sub[i,:],np.linalg.inv(np.cov(mewma_z.T))),mewma_z_sub[i,:].T)) for i in range(len(mewma_z_sub))]\n",
    "    "
   ]
  },
  {
   "cell_type": "code",
   "execution_count": 104,
   "metadata": {},
   "outputs": [
    {
     "data": {
      "image/png": "[encoded data removed]",
      "text/plain": [
       "<Figure size 432x288 with 1 Axes>"
      ]
     },
     "metadata": {
      "needs_background": "light"
     },
     "output_type": "display_data"
    }
   ],
   "source": [
    "#plotting\n",
    "plt.title('T of mEWMA')\n",
    "plt.plot(range(len(mewma_t)),mewma_t, label='T2')\n",
    "plt.axhline(y=UCL,color='r',label='UCL:31.4')\n",
    "plt.ylim(0,60)\n",
    "plt.xlabel('observations') \n",
    "plt.ylabel('T2 statistics')\n",
    "plt.legend(loc='best') \n",
    "plt.show()"
   ]
  },
  {
   "cell_type": "code",
   "execution_count": 201,
   "metadata": {},
   "outputs": [
    {
     "data": {
      "text/plain": [
       "array(5.19630994)"
      ]
     },
     "execution_count": 201,
     "metadata": {},
     "output_type": "execute_result"
    }
   ],
   "source": [
    "cov_z=np.cov(mewma_z[i,:].T)\n",
    "cov_z"
   ]
  },
  {
   "cell_type": "code",
   "execution_count": null,
   "metadata": {},
   "outputs": [],
   "source": []
  },
  {
   "cell_type": "code",
   "execution_count": null,
   "metadata": {},
   "outputs": [],
   "source": []
  }
 ],
 "metadata": {
  "kernelspec": {
   "display_name": "Python 3",
   "language": "python",
   "name": "python3"
  },
  "language_info": {
   "codemirror_mode": {
    "name": "ipython",
    "version": 3
   },
   "file_extension": ".py",
   "mimetype": "text/x-python",
   "name": "python",
   "nbconvert_exporter": "python",
   "pygments_lexer": "ipython3",
   "version": "3.7.4"
  }
 },
 "nbformat": 4,
 "nbformat_minor": 4
}
